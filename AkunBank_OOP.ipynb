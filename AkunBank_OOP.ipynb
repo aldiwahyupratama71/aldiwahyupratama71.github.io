{
  "nbformat": 4,
  "nbformat_minor": 0,
  "metadata": {
    "colab": {
      "provenance": [],
      "authorship_tag": "ABX9TyPJiMYunTP/9TrkJvUf2roW",
      "include_colab_link": true
    },
    "kernelspec": {
      "name": "python3",
      "display_name": "Python 3"
    },
    "language_info": {
      "name": "python"
    }
  },
  "cells": [
    {
      "cell_type": "markdown",
      "metadata": {
        "id": "view-in-github",
        "colab_type": "text"
      },
      "source": [
        "<a href=\"https://colab.research.google.com/github/aldiwahyupratama71/aldiwahyupratama71.github.io/blob/main/AkunBank_OOP.ipynb\" target=\"_parent\"><img src=\"https://colab.research.google.com/assets/colab-badge.svg\" alt=\"Open In Colab\"/></a>"
      ]
    },
    {
      "cell_type": "markdown",
      "source": [
        "**Membuat kelas bernama AkunBank dan membuat method (cara kerja program)**"
      ],
      "metadata": {
        "id": "blweUTIPdAx4"
      }
    },
    {
      "cell_type": "code",
      "execution_count": 43,
      "metadata": {
        "id": "lismEUYyZcf4"
      },
      "outputs": [],
      "source": [
        "class AkunBank:\n",
        "    def __init__(self, no_rekening, nama_pemilik, saldo_awal):\n",
        "        self.__no_rekening = no_rekening\n",
        "        self.__nama_pemilik = nama_pemilik\n",
        "        self.__saldo = saldo_awal  # atribut private\n",
        "\n",
        "    # method untuk melihat saldo\n",
        "    def get_saldo(self):\n",
        "        return self.__saldo\n",
        "\n",
        "    # method untuk menambah saldo (tidak boleh negatif)\n",
        "    def set_saldo(self, jumlah):\n",
        "        if jumlah < 0:\n",
        "            print(\"❌ Jumlah tidak boleh negatif!\")\n",
        "        else:\n",
        "            self.__saldo += jumlah\n",
        "            print(f\"✅ Saldo berhasil ditambah sebesar Rp{jumlah}.\")\n",
        "            print(f\"Saldo saat ini: Rp{self.__saldo}\")\n",
        "\n",
        "# ==========================================================\n",
        "# Simulasi: Membuat 2 objek akun bank dan menjalankan method\n",
        "# ==========================================================\n",
        "\n",
        "# Membuat 2 objek akun\n",
        "akun1 = AkunBank(\"00131231422\", \"Aldi Wahyu Pratama\", 500000000)\n",
        "akun2 = AkunBank(\"00223441132\", \"Dita Tiara Putri\", 30000000)\n",
        "\n",
        "\n",
        "\n"
      ]
    },
    {
      "cell_type": "markdown",
      "source": [
        "**Menjalankan hasil dari method secara 1 persatu ( menambahkan saldo + )**"
      ],
      "metadata": {
        "id": "_GdswDi8iAgJ"
      }
    },
    {
      "cell_type": "code",
      "source": [
        "\n",
        "print(\"=== Cek Saldo Awal ===\")\n",
        "print(\"Saldo Aldi:\", akun1.get_saldo())\n",
        "print(\"Saldo Dita:\", akun2.get_saldo())\n",
        "\n",
        "print(\"\\n=== Setor Uang ===\")\n",
        "akun1.set_saldo(25000000)   # Aldi setor Rp25.000.000\n",
        "akun2.set_saldo(500000)     # Dita setor Rp500.000\n",
        "\n",
        "print(\"\\n=== Cek Saldo Setelah Setor ===\")\n",
        "print(\"Saldo Aldi:\", akun1.get_saldo())\n",
        "print(\"Saldo Dita:\", akun2.get_saldo())\n",
        "\n"
      ],
      "metadata": {
        "colab": {
          "base_uri": "https://localhost:8080/"
        },
        "id": "ilw1PTpihJ1z",
        "outputId": "93066065-1699-4bb6-d6d9-468f6ef2a3ea"
      },
      "execution_count": 44,
      "outputs": [
        {
          "output_type": "stream",
          "name": "stdout",
          "text": [
            "=== Cek Saldo Awal ===\n",
            "Saldo Aldi: 500000000\n",
            "Saldo Dita: 30000000\n",
            "\n",
            "=== Setor Uang ===\n",
            "✅ Saldo berhasil ditambah sebesar Rp25000000.\n",
            "Saldo saat ini: Rp525000000\n",
            "✅ Saldo berhasil ditambah sebesar Rp500000.\n",
            "Saldo saat ini: Rp30500000\n",
            "\n",
            "=== Cek Saldo Setelah Setor ===\n",
            "Saldo Aldi: 525000000\n",
            "Saldo Dita: 30500000\n"
          ]
        }
      ]
    },
    {
      "cell_type": "code",
      "source": [
        "print(\"\\n=== Setor Uang ===\")\n",
        "akun1.set_saldo(-10000)\n",
        "akun2.set_saldo(-20000)\n",
        "\n",
        "# setor dengan negatif"
      ],
      "metadata": {
        "colab": {
          "base_uri": "https://localhost:8080/"
        },
        "id": "NTnazvorjkY3",
        "outputId": "f2c973d1-29bd-483f-b7af-0d6543110ae4"
      },
      "execution_count": 45,
      "outputs": [
        {
          "output_type": "stream",
          "name": "stdout",
          "text": [
            "\n",
            "=== Setor Uang ===\n",
            "❌ Jumlah tidak boleh negatif!\n",
            "❌ Jumlah tidak boleh negatif!\n"
          ]
        }
      ]
    }
  ]
}
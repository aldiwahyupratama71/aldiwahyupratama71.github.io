{
  "nbformat": 4,
  "nbformat_minor": 0,
  "metadata": {
    "colab": {
      "provenance": [],
      "authorship_tag": "ABX9TyOeVRVxCB4J04Igbq+t4bRh",
      "include_colab_link": true
    },
    "kernelspec": {
      "name": "python3",
      "display_name": "Python 3"
    },
    "language_info": {
      "name": "python"
    }
  },
  "cells": [
    {
      "cell_type": "markdown",
      "metadata": {
        "id": "view-in-github",
        "colab_type": "text"
      },
      "source": [
        "<a href=\"https://colab.research.google.com/github/aldiwahyupratama71/aldiwahyupratama71.github.io/blob/main/OOP_pertemuan_5.ipynb\" target=\"_parent\"><img src=\"https://colab.research.google.com/assets/colab-badge.svg\" alt=\"Open In Colab\"/></a>"
      ]
    },
    {
      "cell_type": "code",
      "execution_count": 4,
      "metadata": {
        "id": "2j1jtACHyc4r"
      },
      "outputs": [],
      "source": [
        "class Hewan:\n",
        "    def __init__(self, nama):\n",
        "        self.nama = nama\n",
        "\n",
        "    def suara(self):\n",
        "        return \"Suara hewan\"\n"
      ]
    },
    {
      "cell_type": "code",
      "source": [
        "class Anjing(Hewan):\n",
        "    def suara(self):\n",
        "        return \"guk..guk\"\n",
        "\n",
        "class Kucing(Hewan):\n",
        "    def suara(self):\n",
        "        return \"Meongg..\"\n",
        "\n",
        "class Sapi(Hewan):\n",
        "    def suara(self):\n",
        "        return \"Moooohh\""
      ],
      "metadata": {
        "id": "JrqS4vx7zLCu"
      },
      "execution_count": 6,
      "outputs": []
    },
    {
      "cell_type": "code",
      "source": [
        "anjing=Anjing(\"buddy\")\n",
        "kucing=Kucing(\"wheasker\")\n",
        "sapi=Sapi(\"Bessie\")\n",
        "print(f\"{anjing.nama} bersuara {anjing.suara()}\")\n",
        "print(f\"{kucing.nama} bersuara {kucing.suara()}\")\n",
        "print(f\"{sapi.nama} bersuara {sapi.suara()}\")"
      ],
      "metadata": {
        "colab": {
          "base_uri": "https://localhost:8080/"
        },
        "id": "CXILPGqDzPls",
        "outputId": "03bf34a8-83a7-4c48-cdbf-2ff570ae4457"
      },
      "execution_count": 11,
      "outputs": [
        {
          "output_type": "stream",
          "name": "stdout",
          "text": [
            "buddy bersuara guk..guk\n",
            "wheasker bersuara Meongg..\n",
            "Bessie bersuara Moooohh\n"
          ]
        }
      ]
    },
    {
      "cell_type": "code",
      "source": [
        "animals=[\n",
        "    Anjing(\"Sloki\"),\n",
        "    Kucing(\"Ucup\"),\n",
        "    Sapi(\"jamal\")\n",
        "]"
      ],
      "metadata": {
        "id": "SgjKskXc0VkK"
      },
      "execution_count": 8,
      "outputs": []
    },
    {
      "cell_type": "code",
      "source": [
        "for hewan in animals:\n",
        "  print(hewan.suara())"
      ],
      "metadata": {
        "colab": {
          "base_uri": "https://localhost:8080/"
        },
        "id": "vM61n0ml1ERH",
        "outputId": "1d4ec299-638d-43c7-b7fe-d85dd585780b"
      },
      "execution_count": 12,
      "outputs": [
        {
          "output_type": "stream",
          "name": "stdout",
          "text": [
            "guk..guk\n",
            "Meongg..\n",
            "Moooohh\n"
          ]
        }
      ]
    },
    {
      "cell_type": "code",
      "source": [
        "class Mobil:\n",
        "  def start(self):\n",
        "    return \"mesin mobil menyala\"\n",
        "\n",
        "class Motor:\n",
        "  def start(self):\n",
        "    return \"mesin motor menyala\"\n",
        "\n",
        "class Perahu:\n",
        "  def start(self):\n",
        "    return \"mesin perahu menyala\"\n",
        "\n",
        "def operasikan_kendaraan(kendaraan):\n",
        "  return print(kendaraan.start())"
      ],
      "metadata": {
        "id": "zemFlPXr1ovl"
      },
      "execution_count": 14,
      "outputs": []
    },
    {
      "cell_type": "code",
      "source": [
        "daftar_kendaraan=[Mobil(),Motor(),Perahu()]\n",
        "for kendaraan in daftar_kendaraan:\n",
        "  operasikan_kendaraan(kendaraan)"
      ],
      "metadata": {
        "colab": {
          "base_uri": "https://localhost:8080/"
        },
        "id": "hKJA98J62Xjx",
        "outputId": "1a7a9c94-6fd1-4932-8dee-32db74df264d"
      },
      "execution_count": 15,
      "outputs": [
        {
          "output_type": "stream",
          "name": "stdout",
          "text": [
            "mesin mobil menyala\n",
            "mesin motor menyala\n",
            "mesin perahu menyala\n"
          ]
        }
      ]
    },
    {
      "cell_type": "code",
      "source": [
        "class Apple:\n",
        "  def __init__(self, jumlah):\n",
        "    self.jumlah=jumlah\n",
        "\n",
        "  def __add__(self, other):\n",
        "    return Apple(self.jumlah+other.jumlah)\n",
        "\n",
        "\n",
        "  def __str__(self):\n",
        "    return f\"jumlah apple adalah: {self.jumlah}\""
      ],
      "metadata": {
        "id": "lemPdhiD8qlX"
      },
      "execution_count": 29,
      "outputs": []
    },
    {
      "cell_type": "code",
      "source": [
        "apel1=Apple(12)\n",
        "apel2=Apple(10)\n",
        "apel3=apel1+apel2\n",
        "\n",
        "print(apel3)\n"
      ],
      "metadata": {
        "colab": {
          "base_uri": "https://localhost:8080/"
        },
        "id": "DTOW9kBs7hBW",
        "outputId": "17380d3c-d2a1-40be-b5f2-6d7530a658c8"
      },
      "execution_count": 31,
      "outputs": [
        {
          "output_type": "stream",
          "name": "stdout",
          "text": [
            "jumlah apple adalah: 22\n"
          ]
        }
      ]
    }
  ]
}
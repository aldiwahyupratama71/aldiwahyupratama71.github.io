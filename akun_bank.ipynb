{
  "nbformat": 4,
  "nbformat_minor": 0,
  "metadata": {
    "colab": {
      "provenance": [],
      "authorship_tag": "ABX9TyM+sXIsUmjCKG7+9ZmpsBGU",
      "include_colab_link": true
    },
    "kernelspec": {
      "name": "python3",
      "display_name": "Python 3"
    },
    "language_info": {
      "name": "python"
    }
  },
  "cells": [
    {
      "cell_type": "markdown",
      "metadata": {
        "id": "view-in-github",
        "colab_type": "text"
      },
      "source": [
        "<a href=\"https://colab.research.google.com/github/aldiwahyupratama71/aldiwahyupratama71.github.io/blob/main/akun_bank.ipynb\" target=\"_parent\"><img src=\"https://colab.research.google.com/assets/colab-badge.svg\" alt=\"Open In Colab\"/></a>"
      ]
    },
    {
      "cell_type": "code",
      "execution_count": 10,
      "metadata": {
        "id": "XvAE0epP5kT6"
      },
      "outputs": [],
      "source": [
        "class AkunBank:\n",
        "    def __init__(self, no_rekening: str, nama: str, saldo_awal: float, pin: str):\n",
        "        self.__no_rekening = no_rekening\n",
        "        self.__nama_pemilik = nama\n",
        "        self.__saldo = saldo_awal\n",
        "        self.__pin = pin\n",
        "\n",
        "    # 🔹 Melihat saldo\n",
        "    def get_saldo(self, pin: str):\n",
        "        if pin == self.__pin:\n",
        "            return self.__saldo\n",
        "        else:\n",
        "            print(\"PIN salah! Tidak dapat melihat saldo.\")\n",
        "\n",
        "    # 🔹 Setor uang\n",
        "    def setor(self, jumlah: float):\n",
        "        if jumlah > 0:\n",
        "            self.__saldo += jumlah\n",
        "            print(f\"✅ Berhasil setor sebesar Rp{jumlah}\")\n",
        "        else:\n",
        "            print(\"❌ Jumlah setor tidak boleh negatif!\")\n",
        "\n",
        "    # 🔹 Tarik uang\n",
        "    def tarik(self, jumlah: float, pin: str):\n",
        "        if pin != self.__pin:\n",
        "            print(\"❌ PIN salah! Tidak dapat menarik uang.\")\n",
        "            return\n",
        "        if jumlah > self.__saldo:\n",
        "            print(\"❌ Saldo tidak mencukupi.\")\n",
        "        elif jumlah <= 0:\n",
        "            print(\"❌ Jumlah penarikan tidak valid.\")\n",
        "        else:\n",
        "            self.__saldo -= jumlah\n",
        "            print(f\"💸 Berhasil menarik Rp{jumlah}\")\n",
        "\n",
        "    # 🔹 Transfer ke akun lain\n",
        "    def transfer(self, tujuan, jumlah: float, pin: str):\n",
        "        if pin != self.__pin:\n",
        "            print(\"❌ PIN salah! Transfer gagal.\")\n",
        "            return\n",
        "        if jumlah <= 0:\n",
        "            print(\"❌ Jumlah transfer tidak valid.\")\n",
        "            return\n",
        "        if jumlah > self.__saldo:\n",
        "            print(\"❌ Saldo tidak cukup untuk transfer.\")\n",
        "            return\n",
        "\n",
        "        self.__saldo -= jumlah\n",
        "        tujuan.setor(jumlah)\n",
        "        print(f\"🏦 Transfer Rp{jumlah} ke {tujuan.__nama_pemilik} berhasil.\")\n",
        "\n",
        "    # 🔹 Ganti PIN\n",
        "    def ganti_pin(self, pin_lama: str, pin_baru: str):\n",
        "        if pin_lama == self.__pin:\n",
        "            self.__pin = pin_baru\n",
        "            print(\"🔑 PIN berhasil diganti.\")\n",
        "        else:\n",
        "            print(\"❌ PIN lama salah, tidak bisa diganti.\")\n",
        "\n",
        "    # 🔹 Menampilkan informasi akun\n",
        "    def get_info(self):\n",
        "        return f\"Rekening: {self.__no_rekening}, Pemilik: {self.__nama_pemilik}, Saldo: Rp{self.__saldo}\"\n"
      ]
    },
    {
      "cell_type": "code",
      "source": [
        "# Membuat 2 akun\n",
        "akun1 = AkunBank(\"001\", \"Aldi\", 200000, \"1234\")\n",
        "akun2 = AkunBank(\"002\", \"Wahyu\", 100000, \"5678\")\n",
        "\n",
        "print(\"=== Info Awal ===\")\n",
        "print(akun1.get_info())\n",
        "print(akun2.get_info())\n",
        "\n",
        "# Setor\n",
        "akun1.setor(50000)\n",
        "# Tarik\n",
        "akun1.tarik(30000, \"1234\")\n",
        "# Transfer ke akun lain\n",
        "akun1.transfer(akun2, 50000, \"1234\")\n",
        "\n",
        "print(\"\\n=== Setelah Transaksi ===\")\n",
        "print(akun1.get_info())\n",
        "print(akun2.get_info())\n",
        "\n",
        "# Ganti PIN\n",
        "akun1.ganti_pin(\"1234\", \"9999\")\n"
      ],
      "metadata": {
        "colab": {
          "base_uri": "https://localhost:8080/"
        },
        "id": "7U5Kh_hL5yBZ",
        "outputId": "f6d53bc8-05eb-4fd5-e57e-2333434b8c1c"
      },
      "execution_count": 12,
      "outputs": [
        {
          "output_type": "stream",
          "name": "stdout",
          "text": [
            "=== Info Awal ===\n",
            "Rekening: 001, Pemilik: Aldi, Saldo: Rp200000\n",
            "Rekening: 002, Pemilik: Wahyu, Saldo: Rp100000\n",
            "✅ Berhasil setor sebesar Rp50000\n",
            "💸 Berhasil menarik Rp30000\n",
            "✅ Berhasil setor sebesar Rp50000\n",
            "🏦 Transfer Rp50000 ke Wahyu berhasil.\n",
            "\n",
            "=== Setelah Transaksi ===\n",
            "Rekening: 001, Pemilik: Aldi, Saldo: Rp170000\n",
            "Rekening: 002, Pemilik: Wahyu, Saldo: Rp150000\n",
            "🔑 PIN berhasil diganti.\n"
          ]
        }
      ]
    },
    {
      "cell_type": "code",
      "source": [
        "class AkunBank:\n",
        "    def __init__(self, nama_pemilik, saldo_awal):\n",
        "        self.__nama_pemilik = nama_pemilik\n",
        "        self.__saldo = saldo_awal  # atribut private\n",
        "\n",
        "    # Melihat saldo\n",
        "    def get_saldo(self):\n",
        "        print(f\"Saldo {self.__nama_pemilik}: Rp{self.__saldo}\")\n",
        "\n",
        "    # Menambah saldo\n",
        "    def set_saldo(self, jumlah):\n",
        "        if jumlah > 0:\n",
        "            self.__saldo += jumlah\n",
        "            print(f\"✅ Berhasil menambah saldo sebesar Rp{jumlah}\")\n",
        "        else:\n",
        "            print(\"❌ Jumlah tidak boleh negatif!\")\n",
        "\n",
        "# Membuat 2 objek AkunBank\n",
        "akun1 = AkunBank(\"Aldi\", 100000)\n",
        "akun2 = AkunBank(\"Wahyu\", 50000)\n",
        "\n",
        "# Simulasi setor & cek saldo\n",
        "print(\"=== Akun 1 ===\")\n",
        "akun1.get_saldo()\n",
        "akun1.set_saldo(50000)\n",
        "akun1.get_saldo()\n",
        "\n",
        "print(\"\\n=== Akun 2 ===\")\n",
        "akun2.get_saldo()\n",
        "akun2.set_saldo(-20000)  # contoh gagal\n",
        "akun2.set_saldo(30000)\n",
        "akun2.get_saldo()\n"
      ],
      "metadata": {
        "colab": {
          "base_uri": "https://localhost:8080/"
        },
        "id": "z8-ICa8-9rlb",
        "outputId": "c33d3b97-b609-4493-ff25-ea3e4d254a86"
      },
      "execution_count": 13,
      "outputs": [
        {
          "output_type": "stream",
          "name": "stdout",
          "text": [
            "=== Akun 1 ===\n",
            "Saldo Aldi: Rp100000\n",
            "✅ Berhasil menambah saldo sebesar Rp50000\n",
            "Saldo Aldi: Rp150000\n",
            "\n",
            "=== Akun 2 ===\n",
            "Saldo Wahyu: Rp50000\n",
            "❌ Jumlah tidak boleh negatif!\n",
            "✅ Berhasil menambah saldo sebesar Rp30000\n",
            "Saldo Wahyu: Rp80000\n"
          ]
        }
      ]
    }
  ]
}